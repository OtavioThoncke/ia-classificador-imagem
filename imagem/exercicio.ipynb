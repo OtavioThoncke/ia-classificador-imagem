{
 "cells": [
  {
   "cell_type": "markdown",
   "metadata": {},
   "source": [
    " pip install --upgrade pip"
   ]
  },
  {
   "cell_type": "code",
   "execution_count": 2,
   "metadata": {},
   "outputs": [
    {
     "name": "stdout",
     "output_type": "stream",
     "text": [
      "Requirement already satisfied: pip in c:\\users\\windows 10\\appdata\\local\\programs\\python\\python312\\lib\\site-packages (23.3.1)\n",
      "Note: you may need to restart the kernel to use updated packages.\n"
     ]
    }
   ],
   "source": [
    "pip install --upgrade pip"
   ]
  },
  {
   "cell_type": "code",
   "execution_count": 6,
   "metadata": {},
   "outputs": [
    {
     "name": "stderr",
     "output_type": "stream",
     "text": [
      "ERROR: Could not find a version that satisfies the requirement tensorflow (from versions: none)\n",
      "ERROR: No matching distribution found for tensorflow\n"
     ]
    }
   ],
   "source": [
    "!pip install tensorflow"
   ]
  },
  {
   "cell_type": "code",
   "execution_count": 7,
   "metadata": {},
   "outputs": [
    {
     "name": "stdout",
     "output_type": "stream",
     "text": [
      "Requirement already satisfied: pip in c:\\users\\windows 10\\appdata\\local\\programs\\python\\python312\\lib\\site-packages (23.3.1)Note: you may need to restart the kernel to use updated packages.\n",
      "\n"
     ]
    }
   ],
   "source": [
    "pip install --upgrade pip\n"
   ]
  },
  {
   "cell_type": "code",
   "execution_count": 9,
   "metadata": {},
   "outputs": [
    {
     "ename": "SyntaxError",
     "evalue": "invalid syntax (2032918415.py, line 1)",
     "output_type": "error",
     "traceback": [
      "\u001b[1;36m  Cell \u001b[1;32mIn[9], line 1\u001b[1;36m\u001b[0m\n\u001b[1;33m    pip install tensorflow\u001b[0m\n\u001b[1;37m        ^\u001b[0m\n\u001b[1;31mSyntaxError\u001b[0m\u001b[1;31m:\u001b[0m invalid syntax\n"
     ]
    }
   ],
   "source": [
    "pip install tensorflow\n",
    "\n"
   ]
  },
  {
   "cell_type": "code",
   "execution_count": 10,
   "metadata": {},
   "outputs": [
    {
     "ename": "ModuleNotFoundError",
     "evalue": "No module named 'tensorflow'",
     "output_type": "error",
     "traceback": [
      "\u001b[1;31m---------------------------------------------------------------------------\u001b[0m",
      "\u001b[1;31mModuleNotFoundError\u001b[0m                       Traceback (most recent call last)",
      "\u001b[1;32mc:\\Users\\WINDOWS 10\\Desktop\\fia\\imagem\\exercicio.ipynb Cell 6\u001b[0m line \u001b[0;36m1\n\u001b[1;32m----> <a href='vscode-notebook-cell:/c%3A/Users/WINDOWS%2010/Desktop/fia/imagem/exercicio.ipynb#W4sZmlsZQ%3D%3D?line=0'>1</a>\u001b[0m \u001b[39mimport\u001b[39;00m \u001b[39mtensorflow\u001b[39;00m \u001b[39mas\u001b[39;00m \u001b[39mtf\u001b[39;00m\n\u001b[0;32m      <a href='vscode-notebook-cell:/c%3A/Users/WINDOWS%2010/Desktop/fia/imagem/exercicio.ipynb#W4sZmlsZQ%3D%3D?line=1'>2</a>\u001b[0m \u001b[39mimport\u001b[39;00m \u001b[39mscipy\u001b[39;00m\u001b[39m,\u001b[39m \u001b[39mnumpy\u001b[39;00m\n\u001b[0;32m      <a href='vscode-notebook-cell:/c%3A/Users/WINDOWS%2010/Desktop/fia/imagem/exercicio.ipynb#W4sZmlsZQ%3D%3D?line=3'>4</a>\u001b[0m \u001b[39mfrom\u001b[39;00m \u001b[39mtensorflow\u001b[39;00m\u001b[39m.\u001b[39;00m\u001b[39mkeras\u001b[39;00m\u001b[39m.\u001b[39;00m\u001b[39mpreprocessing\u001b[39;00m\u001b[39m.\u001b[39;00m\u001b[39mimage\u001b[39;00m \u001b[39mimport\u001b[39;00m ImageDataGenerator\n",
      "\u001b[1;31mModuleNotFoundError\u001b[0m: No module named 'tensorflow'"
     ]
    }
   ],
   "source": [
    "\n",
    "import tensorflow as tf\n",
    "import scipy, numpy\n",
    "\n",
    "from tensorflow.keras.preprocessing.image import ImageDataGenerator\n",
    "from tensorflow.keras.models import Sequential\n",
    "from tensorflow.keras.layers import Conv2D, MaxPooling2D, Flatten, Dense"
   ]
  },
  {
   "cell_type": "code",
   "execution_count": 11,
   "metadata": {},
   "outputs": [],
   "source": [
    "train_data_dir = './data'\n",
    "num_classes = 2\n",
    "image_size = (250, 250)\n",
    "batch_size = 12\n",
    "num_epochs = 20"
   ]
  },
  {
   "cell_type": "code",
   "execution_count": 12,
   "metadata": {},
   "outputs": [
    {
     "ename": "NameError",
     "evalue": "name 'ImageDataGenerator' is not defined",
     "output_type": "error",
     "traceback": [
      "\u001b[1;31m---------------------------------------------------------------------------\u001b[0m",
      "\u001b[1;31mNameError\u001b[0m                                 Traceback (most recent call last)",
      "\u001b[1;32mc:\\Users\\WINDOWS 10\\Desktop\\fia\\imagem\\exercicio.ipynb Cell 8\u001b[0m line \u001b[0;36m1\n\u001b[1;32m----> <a href='vscode-notebook-cell:/c%3A/Users/WINDOWS%2010/Desktop/fia/imagem/exercicio.ipynb#X11sZmlsZQ%3D%3D?line=0'>1</a>\u001b[0m train_datagen \u001b[39m=\u001b[39m ImageDataGenerator (\n\u001b[0;32m      <a href='vscode-notebook-cell:/c%3A/Users/WINDOWS%2010/Desktop/fia/imagem/exercicio.ipynb#X11sZmlsZQ%3D%3D?line=1'>2</a>\u001b[0m     rescale \u001b[39m=\u001b[39m \u001b[39m1.0\u001b[39m\u001b[39m/\u001b[39m\u001b[39m255\u001b[39m,\n\u001b[0;32m      <a href='vscode-notebook-cell:/c%3A/Users/WINDOWS%2010/Desktop/fia/imagem/exercicio.ipynb#X11sZmlsZQ%3D%3D?line=2'>3</a>\u001b[0m     validation_split \u001b[39m=\u001b[39m \u001b[39m0.3\u001b[39m,\n\u001b[0;32m      <a href='vscode-notebook-cell:/c%3A/Users/WINDOWS%2010/Desktop/fia/imagem/exercicio.ipynb#X11sZmlsZQ%3D%3D?line=3'>4</a>\u001b[0m     shear_range \u001b[39m=\u001b[39m \u001b[39m0.2\u001b[39m,\n\u001b[0;32m      <a href='vscode-notebook-cell:/c%3A/Users/WINDOWS%2010/Desktop/fia/imagem/exercicio.ipynb#X11sZmlsZQ%3D%3D?line=4'>5</a>\u001b[0m     zoom_range \u001b[39m=\u001b[39m \u001b[39m0.2\u001b[39m,\n\u001b[0;32m      <a href='vscode-notebook-cell:/c%3A/Users/WINDOWS%2010/Desktop/fia/imagem/exercicio.ipynb#X11sZmlsZQ%3D%3D?line=5'>6</a>\u001b[0m     horitzontal_flip \u001b[39m=\u001b[39m true \n\u001b[0;32m      <a href='vscode-notebook-cell:/c%3A/Users/WINDOWS%2010/Desktop/fia/imagem/exercicio.ipynb#X11sZmlsZQ%3D%3D?line=6'>7</a>\u001b[0m )\n",
      "\u001b[1;31mNameError\u001b[0m: name 'ImageDataGenerator' is not defined"
     ]
    }
   ],
   "source": [
    "train_datagen = ImageDataGenerator (\n",
    "    rescale = 1.0/255,\n",
    "    validation_split = 0.3,\n",
    "    shear_range = 0.2,\n",
    "    zoom_range = 0.2,\n",
    "    horitzontal_flip = true \n",
    ")"
   ]
  },
  {
   "cell_type": "code",
   "execution_count": 13,
   "metadata": {},
   "outputs": [
    {
     "ename": "NameError",
     "evalue": "name 'train_datagen' is not defined",
     "output_type": "error",
     "traceback": [
      "\u001b[1;31m---------------------------------------------------------------------------\u001b[0m",
      "\u001b[1;31mNameError\u001b[0m                                 Traceback (most recent call last)",
      "\u001b[1;32mc:\\Users\\WINDOWS 10\\Desktop\\fia\\imagem\\exercicio.ipynb Cell 9\u001b[0m line \u001b[0;36m1\n\u001b[1;32m----> <a href='vscode-notebook-cell:/c%3A/Users/WINDOWS%2010/Desktop/fia/imagem/exercicio.ipynb#X12sZmlsZQ%3D%3D?line=0'>1</a>\u001b[0m train_generator \u001b[39m=\u001b[39m train_datagen\u001b[39m.\u001b[39mflow_from_directony (\n\u001b[0;32m      <a href='vscode-notebook-cell:/c%3A/Users/WINDOWS%2010/Desktop/fia/imagem/exercicio.ipynb#X12sZmlsZQ%3D%3D?line=1'>2</a>\u001b[0m     train_data_dir,\n\u001b[0;32m      <a href='vscode-notebook-cell:/c%3A/Users/WINDOWS%2010/Desktop/fia/imagem/exercicio.ipynb#X12sZmlsZQ%3D%3D?line=2'>3</a>\u001b[0m     traget_size \u001b[39m=\u001b[39m image_size,\n\u001b[0;32m      <a href='vscode-notebook-cell:/c%3A/Users/WINDOWS%2010/Desktop/fia/imagem/exercicio.ipynb#X12sZmlsZQ%3D%3D?line=3'>4</a>\u001b[0m     batch_size \u001b[39m=\u001b[39m batch_size,\n\u001b[0;32m      <a href='vscode-notebook-cell:/c%3A/Users/WINDOWS%2010/Desktop/fia/imagem/exercicio.ipynb#X12sZmlsZQ%3D%3D?line=4'>5</a>\u001b[0m     class_mod \u001b[39m=\u001b[39m \u001b[39m'\u001b[39m\u001b[39mbinary\u001b[39m\u001b[39m'\u001b[39m,\n\u001b[0;32m      <a href='vscode-notebook-cell:/c%3A/Users/WINDOWS%2010/Desktop/fia/imagem/exercicio.ipynb#X12sZmlsZQ%3D%3D?line=5'>6</a>\u001b[0m     subset \u001b[39m=\u001b[39m \u001b[39m'\u001b[39m\u001b[39mtraining\u001b[39m\u001b[39m'\u001b[39m\n\u001b[0;32m      <a href='vscode-notebook-cell:/c%3A/Users/WINDOWS%2010/Desktop/fia/imagem/exercicio.ipynb#X12sZmlsZQ%3D%3D?line=6'>7</a>\u001b[0m )\n",
      "\u001b[1;31mNameError\u001b[0m: name 'train_datagen' is not defined"
     ]
    }
   ],
   "source": [
    "train_generator = train_datagen.flow_from_directony (\n",
    "    train_data_dir,\n",
    "    traget_size = image_size,\n",
    "    batch_size = batch_size,\n",
    "    class_mod = 'binary',\n",
    "    subset = 'training'\n",
    ")"
   ]
  },
  {
   "cell_type": "code",
   "execution_count": null,
   "metadata": {},
   "outputs": [],
   "source": [
    "validation_generator = train_datagen.flow_from_directony(\n",
    "    train_data_dir,\n",
    "    traget_size = image_size,\n",
    "    batch_size = batch_size,\n",
    "    class_mod = 'binary',\n",
    "    subset = 'validation\n",
    "\n",
    "\n",
    "\n",
    "\n",
    ")"
   ]
  },
  {
   "cell_type": "code",
   "execution_count": 14,
   "metadata": {},
   "outputs": [
    {
     "name": "stderr",
     "output_type": "stream",
     "text": [
      "<>:2: SyntaxWarning: 'int' object is not callable; perhaps you missed a comma?\n",
      "<>:2: SyntaxWarning: 'int' object is not callable; perhaps you missed a comma?\n"
     ]
    },
    {
     "ename": "NameError",
     "evalue": "name 'Squential' is not defined",
     "output_type": "error",
     "traceback": [
      "\u001b[1;31m---------------------------------------------------------------------------\u001b[0m",
      "\u001b[1;31mNameError\u001b[0m                                 Traceback (most recent call last)",
      "\u001b[1;32mc:\\Users\\WINDOWS 10\\Desktop\\fia\\imagem\\exercicio.ipynb Cell 11\u001b[0m line \u001b[0;36m1\n\u001b[1;32m----> <a href='vscode-notebook-cell:/c%3A/Users/WINDOWS%2010/Desktop/fia/imagem/exercicio.ipynb#X14sZmlsZQ%3D%3D?line=0'>1</a>\u001b[0m model \u001b[39m=\u001b[39m Squential()\n\u001b[0;32m      <a href='vscode-notebook-cell:/c%3A/Users/WINDOWS%2010/Desktop/fia/imagem/exercicio.ipynb#X14sZmlsZQ%3D%3D?line=1'>2</a>\u001b[0m model\u001b[39m.\u001b[39madd(Conv2D(\u001b[39m32\u001b[39m (\u001b[39m3\u001b[39m,\u001b[39m3\u001b[39m), input_shape\u001b[39m=\u001b[39m(image_size[\u001b[39m0\u001b[39m], image_size[\u001b[39m1\u001b[39m], \u001b[39m3\u001b[39m), activation\u001b[39m=\u001b[39m\u001b[39m'\u001b[39m\u001b[39mrelu\u001b[39m\u001b[39m'\u001b[39m))\n\u001b[0;32m      <a href='vscode-notebook-cell:/c%3A/Users/WINDOWS%2010/Desktop/fia/imagem/exercicio.ipynb#X14sZmlsZQ%3D%3D?line=2'>3</a>\u001b[0m model\u001b[39m.\u001b[39madd(MaxPooling2D(pool_size\u001b[39m=\u001b[39m(\u001b[39m2\u001b[39m,\u001b[39m2\u001b[39m)))\n",
      "\u001b[1;31mNameError\u001b[0m: name 'Squential' is not defined"
     ]
    }
   ],
   "source": [
    "model = Squential()\n",
    "model.add(Conv2D(32 (3,3), input_shape=(image_size[0], image_size[1], 3), activation='relu'))\n",
    "model.add(MaxPooling2D(pool_size=(2,2)))\n",
    "model.add(Conv2D(64, (3,3), activation='relu'))\n",
    "model.add(MaxPooling2D(pool_size=(2,2)))\n",
    "model.add((Flatten()))\n",
    "model.add(Dense(64, actvation='relue'))\n",
    "model.add(Dropout(0.5))\n",
    "\n",
    "\n"
   ]
  },
  {
   "cell_type": "code",
   "execution_count": 15,
   "metadata": {},
   "outputs": [
    {
     "ename": "SyntaxError",
     "evalue": "invalid syntax. Perhaps you forgot a comma? (1358474682.py, line 2)",
     "output_type": "error",
     "traceback": [
      "\u001b[1;36m  Cell \u001b[1;32mIn[15], line 2\u001b[1;36m\u001b[0m\n\u001b[1;33m    loss = 'binary_crossentropy'\u001b[0m\n\u001b[1;37m           ^\u001b[0m\n\u001b[1;31mSyntaxError\u001b[0m\u001b[1;31m:\u001b[0m invalid syntax. Perhaps you forgot a comma?\n"
     ]
    }
   ],
   "source": [
    "model.compile(\n",
    "    loss = 'binary_crossentropy'\n",
    "    optimizer = \"adam\",\n",
    "    metrics = ['accuracy']\n",
    ")"
   ]
  },
  {
   "cell_type": "code",
   "execution_count": null,
   "metadata": {},
   "outputs": [],
   "source": [
    "model.fit (\n",
    "    train__generator,\n",
    "    epochs=num_epochs,\n",
    "    validation_data= validation_generator\n",
    ")\n",
    "\n",
    "print( 'treinamento pronto!')"
   ]
  }
 ],
 "metadata": {
  "kernelspec": {
   "display_name": "Python 3",
   "language": "python",
   "name": "python3"
  },
  "language_info": {
   "codemirror_mode": {
    "name": "ipython",
    "version": 3
   },
   "file_extension": ".py",
   "mimetype": "text/x-python",
   "name": "python",
   "nbconvert_exporter": "python",
   "pygments_lexer": "ipython3",
   "version": "3.12.0"
  }
 },
 "nbformat": 4,
 "nbformat_minor": 2
}
